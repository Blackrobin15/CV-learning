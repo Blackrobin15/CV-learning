{
 "cells": [
  {
   "cell_type": "markdown",
   "id": "ec7e6e1b",
   "metadata": {},
   "source": [
    "This notebook records some basic usages and skills of opencv workflow. some code from\n",
    "https://opencv-python-tutorials.readthedocs.io/zh/latest/2.%20OpenCV%E4%B8%AD%E7%9A%84%20Gui%E7%89%B9%E6%80%A7/2.1.%20%E5%9B%BE%E5%83%8F%E5%85%A5%E9%97%A8/"
   ]
  },
  {
   "cell_type": "code",
   "execution_count": 1,
   "id": "065efb8f",
   "metadata": {},
   "outputs": [],
   "source": [
    "# read an image, write an image and close the window\n",
    "import cv2 as cv\n",
    "import sys\n",
    "img = cv.imread(\"E:\\\\1code\\\\JupyterN\\\\opencv\\\\samples\\\\data\\\\starry_night.jpg\")\n",
    "if img is None:\n",
    "    sys.exit(\"Could not read the image.\")\n",
    "cv.imshow(\"Display window\", img)\n",
    "k = cv.waitKey(0)\n",
    "if k == ord(\"s\"):\n",
    "    cv.imwrite(\"E:\\\\1code\\\\JupyterN\\\\opencv\\\\samples\\\\data\\\\starry_night.png\", img)\n",
    "    cv.destroyAllWindows()"
   ]
  },
  {
   "cell_type": "code",
   "execution_count": null,
   "id": "9ce8151e",
   "metadata": {},
   "outputs": [],
   "source": []
  }
 ],
 "metadata": {
  "kernelspec": {
   "display_name": "Python 3",
   "language": "python",
   "name": "python3"
  },
  "language_info": {
   "codemirror_mode": {
    "name": "ipython",
    "version": 3
   },
   "file_extension": ".py",
   "mimetype": "text/x-python",
   "name": "python",
   "nbconvert_exporter": "python",
   "pygments_lexer": "ipython3",
   "version": "3.8.8"
  }
 },
 "nbformat": 4,
 "nbformat_minor": 5
}
