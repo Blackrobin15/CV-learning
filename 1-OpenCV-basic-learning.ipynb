{
 "cells": [
  {
   "cell_type": "markdown",
   "id": "ec7e6e1b",
   "metadata": {},
   "source": [
    "This notebook records some basic usages and skills of opencv workflow. some code from\n",
    "https://opencv-python-tutorials.readthedocs.io/zh/latest/2.%20OpenCV%E4%B8%AD%E7%9A%84%20Gui%E7%89%B9%E6%80%A7/2.1.%20%E5%9B%BE%E5%83%8F%E5%85%A5%E9%97%A8/"
   ]
  },
  {
   "cell_type": "code",
   "execution_count": 1,
   "id": "8691335c",
   "metadata": {},
   "outputs": [],
   "source": [
    "import cv2 as cv\n",
    "import sys\n",
    "import numpy as np"
   ]
  },
  {
   "cell_type": "code",
   "execution_count": 1,
   "id": "065efb8f",
   "metadata": {},
   "outputs": [],
   "source": [
    "# read an image, write an image and close the window\n",
    "import cv2 as cv\n",
    "import sys\n",
    "img = cv.imread(\"E:\\\\1code\\\\JupyterN\\\\opencv\\\\samples\\\\data\\\\starry_night.jpg\")\n",
    "if img is None:\n",
    "    sys.exit(\"Could not read the image.\")\n",
    "cv.imshow(\"Display window\", img)\n",
    "k = cv.waitKey(0)\n",
    "if k == ord(\"s\"):\n",
    "    cv.imwrite(\"E:\\\\1code\\\\JupyterN\\\\opencv\\\\samples\\\\data\\\\starry_night.png\", img)\n",
    "    cv.destroyAllWindows()"
   ]
  },
  {
   "cell_type": "code",
   "execution_count": 2,
   "id": "9ce8151e",
   "metadata": {},
   "outputs": [],
   "source": [
    "#capture video\n",
    "import numpy as np\n",
    "\n",
    "cap=cv.VideoCapture(0)\n",
    "while(True):\n",
    "    ret,frame=cap.read()\n",
    "    #operation on the frame\n",
    "    gray = cv.cvtColor(frame, cv.COLOR_BGR2GRAY)\n",
    "    \n",
    "    #display the result frame\n",
    "    cv.imshow('frame',gray)\n",
    "    if cv.waitKey(1) & 0xFF == ord('q'):\n",
    "        break\n",
    "cap.release()\n",
    "cv.destroyAllWindows()"
   ]
  },
  {
   "cell_type": "code",
   "execution_count": 1,
   "id": "85547151",
   "metadata": {},
   "outputs": [],
   "source": [
    "import cv2 as cv\n",
    "import numpy as np\n",
    " \n",
    "img=np.zeros([512,512,3],np.uint8) ##创建一副黑色的图片\n",
    " \n",
    "\"\"\"画线\"\"\"\n",
    "cv.line(img,(0,32),(512,89),(255,0,0),3,cv.LINE_8)\n",
    " \n",
    "\"\"\"画矩阵\"\"\"\n",
    "tangle=cv.rectangle(img, (84, 45), (210, 228), (0, 255, 0), 3,cv.LINE_4)\n",
    " \n",
    "\"\"\"画圆\"\"\"\n",
    "cv.circle(img, (447, 63), 63, (0, 0, 255), -1)\n",
    " \n",
    "\"\"\"画椭圆\"\"\"\n",
    "cv.ellipse(img, (256, 256), (100, 50), 90, 0, 360, (255, 0, 0), 2)\n",
    " \n",
    "\"\"\"画多边形\"\"\"\n",
    "pts = np.array([[10,5],[20,30],[70,20],[50,10]], np.int32)\n",
    "pts = pts.reshape((-1,1,2))\n",
    "cv.polylines(img,[pts],True,(0,255,255))\n",
    " \n",
    "\"\"\"在图片上加文字\"\"\"\n",
    "font = cv.FONT_HERSHEY_SIMPLEX\n",
    "cv.putText(img,'OpenCV',(10,500), font, 2,( 0,255,0),2,cv.LINE_AA)\n",
    " \n",
    "\"\"\"矩形框上加文字\"\"\"\n",
    "cv.putText(tangle,'OpenCV',(84, 40), font, 0.5,( 0,255,0),1,cv.LINE_AA)\n",
    " \n",
    "\"\"\"使用cv.polylines()画多条直线\"\"\"\n",
    "line1 = np.array([[100, 20],  [300, 20]], np.int32).reshape((-1, 1, 2))\n",
    "line2 = np.array([[100, 60],  [300, 60]], np.int32).reshape((-1, 1, 2))\n",
    "line3 = np.array([[100, 100],  [300, 100]], np.int32).reshape((-1, 1, 2))\n",
    "cv.polylines(img, [line1, line2, line3], True, (0, 255, 255))\n",
    " \n",
    "cv.imshow('img',img)\n",
    "cv.waitKey(0)\n",
    "cv.destroyAllWindows()"
   ]
  },
  {
   "cell_type": "code",
   "execution_count": null,
   "id": "ca2f96c2",
   "metadata": {},
   "outputs": [],
   "source": []
  }
 ],
 "metadata": {
  "kernelspec": {
   "display_name": "Python 3",
   "language": "python",
   "name": "python3"
  },
  "language_info": {
   "codemirror_mode": {
    "name": "ipython",
    "version": 3
   },
   "file_extension": ".py",
   "mimetype": "text/x-python",
   "name": "python",
   "nbconvert_exporter": "python",
   "pygments_lexer": "ipython3",
   "version": "3.8.8"
  }
 },
 "nbformat": 4,
 "nbformat_minor": 5
}
